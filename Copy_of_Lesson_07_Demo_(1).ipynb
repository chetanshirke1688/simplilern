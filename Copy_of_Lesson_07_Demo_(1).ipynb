{
  "cells": [
    {
      "cell_type": "markdown",
      "metadata": {
        "id": "l5frrNmIM4DM"
      },
      "source": [
        "# Clasess & Objects"
      ],
      "id": "l5frrNmIM4DM"
    },
    {
      "cell_type": "code",
      "execution_count": 9,
      "metadata": {
        "id": "Cm7FkufJM4D6"
      },
      "outputs": [],
      "source": [
        "import datetime\n",
        "class Item :\n",
        "    counter = 0\n",
        "    '''This is class \"Item\" with information and functions related with items. '''\n",
        "    # __init__ function\n",
        "    # - Item ID (numeric)\n",
        "    # - Item Name (string)\n",
        "    # - Quantity Available (numeric)\n",
        "    # - Price per Item (numeric)\n",
        "    def __init__(self, item_name:str, quantity_available:int, price_per_item:int):\n",
        "        '''\n",
        "        Initialization of Item class.\n",
        "        '''\n",
        "        Item.counter +=1\n",
        "        self.item_id = Item.counter\n",
        "        self.item_name = item_name\n",
        "        self.quantity_available = quantity_available\n",
        "        self.price_per_item = price_per_item\n",
        "\n",
        "\n",
        "    # Updates the quantity available for the item.\n",
        "    def update_quantity(self, quantity):\n",
        "        self.quantity_available = quantity\n",
        "\n",
        "    #Calculates and returns the total cost of a specified quantity of the item.\n",
        "    def calculate_total_cost(self):\n",
        "      return self.quantity_available * self.price_per_item\n",
        "\n",
        "class PerishableItem(Item):\n",
        "    def __init__(self, item_name:str, quantity_available:int, price_per_item:int, expiry_date):\n",
        "        '''\n",
        "        Initialization of Item class.\n",
        "        '''\n",
        "        super().__init__(item_name, quantity_available, price_per_item)\n",
        "        self.expiry_date=expiry_date\n",
        "\n",
        "    def check_expiry(self):\n",
        "      return datetime.datetime.now() > self.expiry_date\n",
        "      #return False\n",
        "\n",
        "\n",
        "class NonPerishableItem(Item):\n",
        "\n",
        "    def __init__(self, item_name:str, quantity_available:int, price_per_item:int, weight):\n",
        "        '''\n",
        "        Initialization of Item class.\n",
        "        '''\n",
        "        super().__init__(item_name, quantity_available, price_per_item)\n",
        "        self.weight = weight\n",
        "\n",
        "    def calculate_shipping_cost(self):\n",
        "      return self.weight*self.quantity_available*100\n",
        "\n",
        "\n",
        "class Inventory :\n",
        "    def __init__(self, inventory_items:list):\n",
        "        '''\n",
        "        Initialization of Inventory class.\n",
        "        '''\n",
        "        self.inventory_items = inventory_items\n",
        "\n",
        "    def add_item(self, item:Item):\n",
        "        self.inventory_items.append(item)\n",
        "\n",
        "    def update_item_quantity(self, item_id, new_quantity):\n",
        "      for item in self.inventory_items:\n",
        "        if item.item_id == item_id:\n",
        "          item.quantity_available=new_quantity\n",
        "\n",
        "    def remove_item(self, item_id):\n",
        "      for item in self.inventory_items:\n",
        "        if item.item_id == item_id:\n",
        "          self.inventory_items.remove(item)\n",
        "\n",
        "    def display_inventory(self):\n",
        "      print('------')\n",
        "      for x in self.inventory_items:\n",
        "          print(x.item_id, x.item_name, x.quantity_available)\n",
        "\n",
        "\n"
      ],
      "id": "Cm7FkufJM4D6"
    },
    {
      "cell_type": "code",
      "source": [
        "perishableObj =  PerishableItem(item_name='battery', quantity_available=10, price_per_item=100, expiry_date=datetime.datetime.now())\n",
        "nonPerishableObj =  NonPerishableItem(item_name='sunglasses', quantity_available=30, price_per_item=10, weight=33)\n",
        "print(perishableObj.check_expiry())\n",
        "print(perishableObj.update_quantity(10))\n",
        "print(perishableObj.quantity_available)\n",
        "print(nonPerishableObj.calculate_shipping_cost())\n",
        "print(perishableObj.item_id)\n",
        "print(nonPerishableObj.item_id)\n",
        "\n",
        "invList = list()\n",
        "invList.append(perishableObj)\n",
        "invList.append(nonPerishableObj)\n",
        "inv = Inventory(invList)\n",
        "nonPerishableObj_1 =  NonPerishableItem(item_name='phones', quantity_available=11, price_per_item=10, weight=1)\n",
        "inv.add_item(nonPerishableObj_1)\n",
        "inv.display_inventory()\n",
        "inv.update_item_quantity(item_id=nonPerishableObj_1.item_id, new_quantity=9)\n",
        "inv.display_inventory()\n",
        "inv.remove_item(item_id=nonPerishableObj_1.item_id)\n",
        "inv.display_inventory()"
      ],
      "metadata": {
        "colab": {
          "base_uri": "https://localhost:8080/"
        },
        "id": "hhcy0LSWBfzr",
        "outputId": "c63df111-82ce-4b19-9550-791601be1e26"
      },
      "id": "hhcy0LSWBfzr",
      "execution_count": 10,
      "outputs": [
        {
          "output_type": "stream",
          "name": "stdout",
          "text": [
            "True\n",
            "None\n",
            "10\n",
            "99000\n",
            "1\n",
            "2\n",
            "------\n",
            "1 battery 10\n",
            "2 sunglasses 30\n",
            "3 phones 11\n",
            "------\n",
            "1 battery 10\n",
            "2 sunglasses 30\n",
            "3 phones 9\n",
            "------\n",
            "1 battery 10\n",
            "2 sunglasses 30\n"
          ]
        }
      ]
    }
  ],
  "metadata": {
    "kernelspec": {
      "display_name": "Python 3",
      "language": "python",
      "name": "python3"
    },
    "language_info": {
      "codemirror_mode": {
        "name": "ipython",
        "version": 3
      },
      "file_extension": ".py",
      "mimetype": "text/x-python",
      "name": "python",
      "nbconvert_exporter": "python",
      "pygments_lexer": "ipython3",
      "version": "3.8.2"
    },
    "colab": {
      "provenance": []
    }
  },
  "nbformat": 4,
  "nbformat_minor": 5
}